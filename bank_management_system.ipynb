{
 "cells": [
  {
   "cell_type": "markdown",
   "id": "77c88bb5-42ce-4dfb-829b-2a476340d100",
   "metadata": {},
   "source": [
    "# Bank Management System"
   ]
  },
  {
   "cell_type": "code",
   "execution_count": 1,
   "id": "65b3b49a-7386-4665-9a12-1220b5a8efc6",
   "metadata": {},
   "outputs": [
    {
     "name": "stdout",
     "output_type": "stream",
     "text": [
      "\n",
      "Welcome to the Bank System\n",
      "1. Register\n",
      "2. Login\n",
      "3. Exit\n"
     ]
    },
    {
     "name": "stdin",
     "output_type": "stream",
     "text": [
      "Enter your choice:  1\n"
     ]
    },
    {
     "name": "stdout",
     "output_type": "stream",
     "text": [
      "Please fill in the following details to register:\n"
     ]
    },
    {
     "name": "stdin",
     "output_type": "stream",
     "text": [
      "Username:  manoj\n",
      "Password:  1234\n",
      "Confirm Password:  1234\n"
     ]
    },
    {
     "name": "stdout",
     "output_type": "stream",
     "text": [
      "Registration successful!\n",
      "\n",
      "Welcome to the Bank System\n",
      "1. Register\n",
      "2. Login\n",
      "3. Exit\n"
     ]
    },
    {
     "name": "stdin",
     "output_type": "stream",
     "text": [
      "Enter your choice:  3\n"
     ]
    },
    {
     "name": "stdout",
     "output_type": "stream",
     "text": [
      "Thank you for using Bank System. Goodbye!\n"
     ]
    }
   ],
   "source": [
    "# Bank System\n",
    "\n",
    "# Initialize empty dictionary to store user information\n",
    "users = {}\n",
    "\n",
    "def register():\n",
    "    print(\"Please fill in the following details to register:\")\n",
    "    username = input(\"Username: \")\n",
    "    \n",
    "    # Check if username already exists\n",
    "    if username in users:\n",
    "        print(\"Username already exists. Please choose another one.\")\n",
    "        return\n",
    "    \n",
    "    password = input(\"Password: \")\n",
    "    confirm_password = input(\"Confirm Password: \")\n",
    "    \n",
    "    # Check if passwords match\n",
    "    if password != confirm_password:\n",
    "        print(\"Passwords do not match. Please try again.\")\n",
    "        return\n",
    "    \n",
    "    users[username] = password\n",
    "    print(\"Registration successful!\")\n",
    "\n",
    "def login():\n",
    "    print(\"Please enter your login details:\")\n",
    "    username = input(\"Username: \")\n",
    "    password = input(\"Password: \")\n",
    "    \n",
    "    # Check if username exists and password matches\n",
    "    if username in users and users[username] == password:\n",
    "        print(\"Login successful!\")\n",
    "    else:\n",
    "        print(\"Invalid username or password. Please try again.\")\n",
    "\n",
    "# Main menu\n",
    "while True:\n",
    "    print(\"\\nWelcome to the Bank System\")\n",
    "    print(\"1. Register\")\n",
    "    print(\"2. Login\")\n",
    "    print(\"3. Exit\")\n",
    "    choice = input(\"Enter your choice: \")\n",
    "\n",
    "    if choice == '1':\n",
    "        register()\n",
    "    elif choice == '2':\n",
    "        login()\n",
    "    elif choice == '3':\n",
    "        print(\"Thank you for using Bank System. Goodbye!\")\n",
    "        break\n",
    "    else:\n",
    "        print(\"Invalid choice. Please try again.\")\n"
   ]
  },
  {
   "cell_type": "markdown",
   "id": "a1afab0a-4e91-4396-870d-246b8c161cad",
   "metadata": {},
   "source": [
    "# bank management system"
   ]
  },
  {
   "cell_type": "code",
   "execution_count": 2,
   "id": "68acd443-051f-43f3-9021-f672364b81c9",
   "metadata": {},
   "outputs": [
    {
     "name": "stdout",
     "output_type": "stream",
     "text": [
      "\n",
      "Welcome to the Bank Management System\n",
      "1. Login\n",
      "2. Exit\n"
     ]
    },
    {
     "name": "stdin",
     "output_type": "stream",
     "text": [
      "Enter your choice:  2\n"
     ]
    },
    {
     "name": "stdout",
     "output_type": "stream",
     "text": [
      "Thank you for using Bank Management System. Goodbye!\n"
     ]
    }
   ],
   "source": [
    "class Account:\n",
    "    def __init__(self, balance=0):\n",
    "        self.balance = balance\n",
    "\n",
    "    def deposit(self, amount):\n",
    "        if amount > 0:\n",
    "            self.balance += amount\n",
    "            print(f\"Deposit of ${amount} successful. Current balance: ${self.balance}\")\n",
    "        else:\n",
    "            print(\"Invalid amount for deposit.\")\n",
    "\n",
    "    def withdraw(self, amount):\n",
    "        if amount > 0 and amount <= self.balance:\n",
    "            self.balance -= amount\n",
    "            print(f\"Withdrawal of ${amount} successful. Current balance: ${self.balance}\")\n",
    "        elif amount > self.balance:\n",
    "            print(\"Insufficient funds.\")\n",
    "        else:\n",
    "            print(\"Invalid amount for withdrawal.\")\n",
    "\n",
    "    def balance_inquiry(self):\n",
    "        print(f\"Your current balance is: ${self.balance}\")\n",
    "\n",
    "\n",
    "class User:\n",
    "    def __init__(self, username, password):\n",
    "        self.username = username\n",
    "        self.password = password\n",
    "\n",
    "\n",
    "def login(users):\n",
    "    while True:\n",
    "        username = input(\"Enter your username: \")\n",
    "        password = input(\"Enter your password: \")\n",
    "\n",
    "        if username in users and users[username].password == password:\n",
    "            print(\"Login successful!\")\n",
    "            return True\n",
    "        else:\n",
    "            print(\"Invalid username or password. Please try again.\")\n",
    "            continue\n",
    "\n",
    "\n",
    "def main():\n",
    "    users = {\"user1\": User(\"user1\", \"password1\"), \"user2\": User(\"user2\", \"password2\")}\n",
    "    accounts = {\"user1\": Account(1000), \"user2\": Account(500)}\n",
    "\n",
    "    while True:\n",
    "        print(\"\\nWelcome to the Bank Management System\")\n",
    "        print(\"1. Login\")\n",
    "        print(\"2. Exit\")\n",
    "        choice = input(\"Enter your choice: \")\n",
    "\n",
    "        if choice == '1':\n",
    "            if login(users):\n",
    "                while True:\n",
    "                    print(\"\\nSelect an option:\")\n",
    "                    print(\"1. Deposit\")\n",
    "                    print(\"2. Withdraw\")\n",
    "                    print(\"3. Balance Inquiry\")\n",
    "                    print(\"4. Logout\")\n",
    "                    option = input(\"Enter your option: \")\n",
    "\n",
    "                    if option == '1':\n",
    "                        amount = float(input(\"Enter amount to deposit: \"))\n",
    "                        accounts[username].deposit(amount)\n",
    "                    elif option == '2':\n",
    "                        amount = float(input(\"Enter amount to withdraw: \"))\n",
    "                        accounts[username].withdraw(amount)\n",
    "                    elif option == '3':\n",
    "                        accounts[username].balance_inquiry()\n",
    "                    elif option == '4':\n",
    "                        print(\"Logging out.\")\n",
    "                        break\n",
    "                    else:\n",
    "                        print(\"Invalid option. Please try again.\")\n",
    "        elif choice == '2':\n",
    "            print(\"Thank you for using Bank Management System. Goodbye!\")\n",
    "            break\n",
    "        else:\n",
    "            print(\"Invalid choice. Please try again.\")\n",
    "\n",
    "\n",
    "if __name__ == \"__main__\":\n",
    "    main()\n"
   ]
  },
  {
   "cell_type": "code",
   "execution_count": null,
   "id": "af012a2c-3319-4b75-b247-392cd77724d8",
   "metadata": {},
   "outputs": [],
   "source": []
  }
 ],
 "metadata": {
  "kernelspec": {
   "display_name": "Python 3 (ipykernel)",
   "language": "python",
   "name": "python3"
  },
  "language_info": {
   "codemirror_mode": {
    "name": "ipython",
    "version": 3
   },
   "file_extension": ".py",
   "mimetype": "text/x-python",
   "name": "python",
   "nbconvert_exporter": "python",
   "pygments_lexer": "ipython3",
   "version": "3.11.7"
  }
 },
 "nbformat": 4,
 "nbformat_minor": 5
}
